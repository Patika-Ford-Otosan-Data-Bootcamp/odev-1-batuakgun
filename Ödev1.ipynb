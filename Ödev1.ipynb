{
 "cells": [
  {
   "cell_type": "markdown",
   "id": "78e27809-3c41-4f9f-80fe-f943495cb779",
   "metadata": {},
   "source": [
    "# ÖDEV (1. HAFTA)"
   ]
  },
  {
   "cell_type": "code",
   "execution_count": 1,
   "id": "3b418ac0-1a23-4e34-8168-7264e534ab62",
   "metadata": {},
   "outputs": [
    {
     "name": "stdout",
     "output_type": "stream",
     "text": [
      "30\n"
     ]
    }
   ],
   "source": [
    "# 1. question\n",
    "z = (5 + 2*3)*3 - 3  \n",
    "print(z)"
   ]
  },
  {
   "cell_type": "code",
   "execution_count": 2,
   "id": "2e9e0d1d-d59f-4cd2-9cea-dde3c6ead088",
   "metadata": {},
   "outputs": [
    {
     "name": "stdout",
     "output_type": "stream",
     "text": [
      "VERİ BİLİMi, verilerden değer elde etmek için istatistik, \n",
      "bilimsel yöntemler, yapay zeka (AI) ve veri analizi dahil olmak üzere birçok alanı bir araya getirir. \n",
      "VERİ BİLİMiyle uğraşan kişilere VERİ BİLİMci denir. Bu kişiler web, akıllı telefonlar, müşteriler, \n",
      "sensörler ve diğer kaynaklardan toplanan verileri analiz etmek ve bunlardan eyleme dönüştürülebilir \n",
      "içgörüler üretmek amacıyla bir dizi beceriyi bir araya getirir.\n"
     ]
    }
   ],
   "source": [
    "# 2. question\n",
    "text = \"\"\"Veri bilimi, verilerden değer elde etmek için istatistik, \n",
    "bilimsel yöntemler, yapay zeka (AI) ve veri analizi dahil olmak üzere birçok alanı bir araya getirir. \n",
    "Veri Bilimiyle uğraşan kişilere veri bilimci denir. Bu kişiler web, akıllı telefonlar, müşteriler, \n",
    "sensörler ve diğer kaynaklardan toplanan verileri analiz etmek ve bunlardan eyleme dönüştürülebilir \n",
    "içgörüler üretmek amacıyla bir dizi beceriyi bir araya getirir.\"\"\"\n",
    "\n",
    "text = text.replace(\"veri bilim\", \"Veri Bilim\")\n",
    "text = text.replace(\"Veri bilim\", \"VERİ BİLİM\")\n",
    "text = text.replace(\"Veri Bilim\", \"VERİ BİLİM\")\n",
    "print(text)"
   ]
  },
  {
   "cell_type": "code",
   "execution_count": 3,
   "id": "2da7894a-ed24-461e-b3da-0022f2ffdcb4",
   "metadata": {},
   "outputs": [
    {
     "name": "stdout",
     "output_type": "stream",
     "text": [
      "Batuhan Akgün 23 Istanbul 2.8\n"
     ]
    }
   ],
   "source": [
    "# 3. question\n",
    "print(\"Batuhan \" + \"Akgün \" + \"23 \" + \"Istanbul \" + \"2.8\")"
   ]
  },
  {
   "cell_type": "code",
   "execution_count": 4,
   "id": "c75a96e1-6999-48d8-8768-c8074f75c063",
   "metadata": {},
   "outputs": [
    {
     "name": "stdout",
     "output_type": "stream",
     "text": [
      "Veri bilimi\n",
      "Veri bilimi\n",
      "Veri bilimi\n",
      "Veri bilimi\n",
      "Veri bilimi\n",
      "Veri bilimi\n",
      "Veri bilimi\n",
      "Veri bilimi\n",
      "Veri bilimi\n",
      "Veri bilimi\n",
      "Veri bilimi\n",
      "alanlardan biridir.\n",
      "alanlardan biridir.\n",
      "alanlardan biridir.\n",
      "alanlardan biridir.\n",
      "alanlardan biridir.\n",
      "alanlardan biridir.\n",
      "alanlardan biridir.\n",
      "alanlardan biridir.\n",
      "alanlardan biridir.\n",
      "alanlardan biridir.\n",
      "alanlardan biridir.\n",
      "alanlardan biridir.\n",
      "alanlardan biridir.\n",
      "alanlardan biridir.\n",
      "alanlardan biridir.\n",
      "alanlardan biridir.\n",
      "alanlardan biridir.\n",
      "alanlardan biridir.\n",
      "alanlardan biridir.\n"
     ]
    }
   ],
   "source": [
    "# 4. question\n",
    "text = \"Veri bilimi günümüzün en heyecan verici alanlardan biridir.\"\n",
    "liste = text.split()\n",
    "kelimeler = []\n",
    "kelimeler.append(liste[0] + \" \" + liste[1])\n",
    "kelimeler.append(liste[-2] + \" \" + liste[-1])\n",
    "for i in kelimeler:\n",
    "    for j in range(len(i)):\n",
    "        print(i)"
   ]
  },
  {
   "cell_type": "code",
   "execution_count": 5,
   "id": "0b3229d2-bc76-4af8-beb3-31d20464d2da",
   "metadata": {},
   "outputs": [
    {
     "name": "stdout",
     "output_type": "stream",
     "text": [
      "veri bilimi kelimeleri küçük harflerle yazılmıştır.\n",
      "VERİ BİLİMİ kelimeleri büyük harflerle yazılmıştır\n"
     ]
    }
   ],
   "source": [
    "# 5. question\n",
    "liste = [\"veri bilimi\", \"VERİ BİLİMİ\"]\n",
    "for i in liste:\n",
    "    if i.isupper():\n",
    "        print(i + \" kelimeleri büyük harflerle yazılmıştır\")\n",
    "    else :\n",
    "        print(i + \" kelimeleri küçük harflerle yazılmıştır.\")"
   ]
  },
  {
   "cell_type": "code",
   "execution_count": 6,
   "id": "c5214492-89b0-432f-8adf-ec58c5c18658",
   "metadata": {},
   "outputs": [],
   "source": [
    "# 6. question\n",
    "listem = [\"Batuhan\", \"Akgün\", 23, \"Istanbul\", 2.8]"
   ]
  },
  {
   "cell_type": "code",
   "execution_count": 7,
   "id": "5f94e9e7-4d61-4d22-bfa6-1c037e19d424",
   "metadata": {},
   "outputs": [],
   "source": [
    "# 7. question\n",
    "listem2 = listem[2:]"
   ]
  },
  {
   "cell_type": "code",
   "execution_count": 8,
   "id": "60e6c63f-d58f-4796-8143-fecc34672b7b",
   "metadata": {},
   "outputs": [
    {
     "name": "stdout",
     "output_type": "stream",
     "text": [
      "<class 'int'>\n",
      "<class 'str'>\n",
      "<class 'float'>\n"
     ]
    }
   ],
   "source": [
    "# 8. question\n",
    "for i in listem2:\n",
    "    print(type(i))"
   ]
  },
  {
   "cell_type": "code",
   "execution_count": 9,
   "id": "9fd37dfb-31d7-4e32-af6c-aaeeda7e7aff",
   "metadata": {},
   "outputs": [],
   "source": [
    "# 9. question\n",
    "eklenecek_liste = [\"Ali\", 90, \"Mehmet\"]\n",
    "listem2.append(eklenecek_liste)"
   ]
  },
  {
   "cell_type": "code",
   "execution_count": 10,
   "id": "3aa3486d-b278-4098-abfe-c0da95659d71",
   "metadata": {},
   "outputs": [],
   "source": [
    "# 10. question\n",
    "Listem3 = listem2[-1][:2]"
   ]
  },
  {
   "cell_type": "code",
   "execution_count": 11,
   "id": "19b1659c-40c1-41d1-9829-ebd55e3e0a81",
   "metadata": {},
   "outputs": [],
   "source": [
    "# 11. question\n",
    "listem2 = listem2 + Listem3"
   ]
  },
  {
   "cell_type": "code",
   "execution_count": 12,
   "id": "eb13df72-ed60-4d50-bb74-2d3c5845718f",
   "metadata": {},
   "outputs": [],
   "source": [
    "# 12. question \n",
    "del listem2[-1]"
   ]
  },
  {
   "cell_type": "code",
   "execution_count": 13,
   "id": "4a1d4aa4-21fe-4dfe-b12b-6c1572c29876",
   "metadata": {},
   "outputs": [],
   "source": [
    "# 13. question\n",
    "yeni_liste = list(range(10,0,-1))"
   ]
  },
  {
   "cell_type": "code",
   "execution_count": 14,
   "id": "1ce59347-a4d9-41bd-b4ee-03ea6cca2941",
   "metadata": {},
   "outputs": [
    {
     "name": "stdout",
     "output_type": "stream",
     "text": [
      "Liste içerisindeki 7 rakamının bulunduğu index : 3\n",
      "Liste içerisindeki 2 rakamının bulunduğu index : 8\n"
     ]
    }
   ],
   "source": [
    "# 14. question\n",
    "print(\"Liste içerisindeki 7 rakamının bulunduğu index : \" + str(yeni_liste.index(7)))\n",
    "print(\"Liste içerisindeki 2 rakamının bulunduğu index : \" + str(yeni_liste.index(2)))"
   ]
  },
  {
   "cell_type": "code",
   "execution_count": 15,
   "id": "fb80a3ac-1a58-4435-bb02-172eeb113c7a",
   "metadata": {},
   "outputs": [],
   "source": [
    "# 15. question\n",
    "tuple1 = tuple(listem2)"
   ]
  },
  {
   "cell_type": "code",
   "execution_count": 16,
   "id": "4413a7cc-9193-484e-9738-54d51b11d076",
   "metadata": {},
   "outputs": [],
   "source": [
    "# 16. question\n",
    "# Tuples can not be changed but we can convert tuples to list and this situation makes replacement element possible. "
   ]
  },
  {
   "cell_type": "code",
   "execution_count": 17,
   "id": "340ad4fd-6084-40c6-ad75-0904be4b11ce",
   "metadata": {},
   "outputs": [],
   "source": [
    "# 17. question\n",
    "yeni_tuple = tuple(range(10,0,-1))"
   ]
  },
  {
   "cell_type": "code",
   "execution_count": 18,
   "id": "fd1cf548-7a42-44ce-ad4c-a5ea666f0dcb",
   "metadata": {},
   "outputs": [
    {
     "name": "stdout",
     "output_type": "stream",
     "text": [
      "Tuple içerisindeki 7 rakamının bulunduğu index : 3\n",
      "Tuple içerisindeki 2 rakamının bulunduğu index : 8\n"
     ]
    }
   ],
   "source": [
    "# 18. question\n",
    "print(\"Tuple içerisindeki 7 rakamının bulunduğu index : \" + str(yeni_tuple.index(7)))\n",
    "print(\"Tuple içerisindeki 2 rakamının bulunduğu index : \" + str(yeni_tuple.index(2)))"
   ]
  },
  {
   "cell_type": "code",
   "execution_count": 19,
   "id": "c84020b2-0ae4-4512-aebc-15158f66ee38",
   "metadata": {},
   "outputs": [
    {
     "data": {
      "text/plain": [
       "{10, 20}"
      ]
     },
     "execution_count": 19,
     "metadata": {},
     "output_type": "execute_result"
    }
   ],
   "source": [
    "# 19. question\n",
    "dictionary = {\"REG\": [\"RMSE\", 10],\n",
    "              \"LOG\": [\"MSE\", 20],\n",
    "              \"CART\": [\"SSE\", 10]}\n",
    "set1 = set((dictionary[\"REG\"][1], dictionary[\"LOG\"][1], dictionary[\"CART\"][1])) \n",
    "set1"
   ]
  },
  {
   "cell_type": "code",
   "execution_count": 20,
   "id": "ead28f26-9d17-4965-9d8a-196bb4050a7c",
   "metadata": {},
   "outputs": [],
   "source": [
    "# 20. question\n",
    "dictionary[\"CART\"] = [\"SSE\", 30]"
   ]
  },
  {
   "cell_type": "code",
   "execution_count": 21,
   "id": "5c6e0cb7-b6f2-4fae-b39c-ec1da658c61a",
   "metadata": {},
   "outputs": [],
   "source": [
    "# 21. question\n",
    "dictionary[\"RF\"] = [\"SSE\", 50]"
   ]
  },
  {
   "cell_type": "code",
   "execution_count": 22,
   "id": "2a202482-e43c-409e-a0c6-d75cad2eb3fe",
   "metadata": {},
   "outputs": [
    {
     "name": "stdout",
     "output_type": "stream",
     "text": [
      "set1'in eleman sayısı = 5\n"
     ]
    }
   ],
   "source": [
    "# 22. question\n",
    "liste1 = [10, 20, 10, \"Ali\", 10, \"Ali\", \"Mehmet\", 20, \"Ayşe\" ]\n",
    "set1 = set(liste1)\n",
    "print(\"set1'in eleman sayısı = \"+ str(len(set1)))"
   ]
  },
  {
   "cell_type": "code",
   "execution_count": 23,
   "id": "2b7dabf8-7aab-4ad1-b628-244c1046113f",
   "metadata": {},
   "outputs": [],
   "source": [
    "# 23. question\n",
    "# Index operations are not allowed."
   ]
  },
  {
   "cell_type": "code",
   "execution_count": 24,
   "id": "38359e0b-3f31-4866-b344-b71595ecc5c7",
   "metadata": {},
   "outputs": [
    {
     "data": {
      "text/plain": [
       "{20, 40, 'Ayşe', 'Mehmet', 'Veli'}"
      ]
     },
     "execution_count": 24,
     "metadata": {},
     "output_type": "execute_result"
    }
   ],
   "source": [
    "# 24. question\n",
    "set1.remove(\"Ali\")\n",
    "set1.remove(10)\n",
    "set1.add(\"Veli\")\n",
    "set1.add(40)\n",
    "set1"
   ]
  },
  {
   "cell_type": "code",
   "execution_count": 25,
   "id": "e53200e9-73e0-4996-b195-24c6a43cc938",
   "metadata": {},
   "outputs": [
    {
     "data": {
      "text/plain": [
       "{5}"
      ]
     },
     "execution_count": 25,
     "metadata": {},
     "output_type": "execute_result"
    }
   ],
   "source": [
    "# 25.1 question\n",
    "set1 = set([1, 3, 5])\n",
    "set2 = set([1, 2, 3])\n",
    "set1.difference(set2)"
   ]
  },
  {
   "cell_type": "code",
   "execution_count": 26,
   "id": "181a8d16-38ae-4f79-8cc1-5194ad4e7307",
   "metadata": {},
   "outputs": [
    {
     "data": {
      "text/plain": [
       "{2}"
      ]
     },
     "execution_count": 26,
     "metadata": {},
     "output_type": "execute_result"
    }
   ],
   "source": [
    "# 25.2 question\n",
    "set2.difference(set1)"
   ]
  },
  {
   "cell_type": "code",
   "execution_count": 27,
   "id": "e1cd5412-6567-47f2-bb0a-e2dd3d8725fb",
   "metadata": {},
   "outputs": [
    {
     "data": {
      "text/plain": [
       "{2, 5}"
      ]
     },
     "execution_count": 27,
     "metadata": {},
     "output_type": "execute_result"
    }
   ],
   "source": [
    "# 25.3 question\n",
    "set1.symmetric_difference(set2)"
   ]
  },
  {
   "cell_type": "code",
   "execution_count": 28,
   "id": "32ad42c9-58e9-49bf-b469-39d5d55dc753",
   "metadata": {},
   "outputs": [
    {
     "data": {
      "text/plain": [
       "{1, 3}"
      ]
     },
     "execution_count": 28,
     "metadata": {},
     "output_type": "execute_result"
    }
   ],
   "source": [
    "# 25.4 question\n",
    "set1.intersection(set2)"
   ]
  },
  {
   "cell_type": "code",
   "execution_count": 29,
   "id": "aae3d541-7183-4eab-82a2-951fb3fd05ce",
   "metadata": {},
   "outputs": [
    {
     "data": {
      "text/plain": [
       "{1, 2, 3, 5}"
      ]
     },
     "execution_count": 29,
     "metadata": {},
     "output_type": "execute_result"
    }
   ],
   "source": [
    "# 25.5 question\n",
    "set1.union(set2)"
   ]
  },
  {
   "cell_type": "code",
   "execution_count": 30,
   "id": "bd0af2b3-539d-444f-bce3-1ac0e9a75a15",
   "metadata": {},
   "outputs": [
    {
     "data": {
      "text/plain": [
       "False"
      ]
     },
     "execution_count": 30,
     "metadata": {},
     "output_type": "execute_result"
    }
   ],
   "source": [
    "# 25.6 question\n",
    "set1.isdisjoint(set2)"
   ]
  },
  {
   "cell_type": "code",
   "execution_count": 31,
   "id": "7ef71009-97ab-43a0-9d6b-7e5e5dbd1c84",
   "metadata": {},
   "outputs": [
    {
     "data": {
      "text/plain": [
       "False"
      ]
     },
     "execution_count": 31,
     "metadata": {},
     "output_type": "execute_result"
    }
   ],
   "source": [
    "# 25.7\n",
    "set1.issubset(set2)"
   ]
  },
  {
   "cell_type": "code",
   "execution_count": 32,
   "id": "37d1e7d7-4339-44e9-a17c-ac0ccaaacb8b",
   "metadata": {},
   "outputs": [
    {
     "data": {
      "text/plain": [
       "False"
      ]
     },
     "execution_count": 32,
     "metadata": {},
     "output_type": "execute_result"
    }
   ],
   "source": [
    "# 25.8\n",
    "set1.issuperset(set2)"
   ]
  },
  {
   "cell_type": "code",
   "execution_count": 33,
   "id": "577d950b-b94a-4b3e-83cc-95412644f657",
   "metadata": {},
   "outputs": [
    {
     "data": {
      "text/plain": [
       "[1200.0, 2400.0, 3600.0, 4800.0, 6000.0]"
      ]
     },
     "execution_count": 33,
     "metadata": {},
     "output_type": "execute_result"
    }
   ],
   "source": [
    "# 26. question\n",
    "maaslar = [1000,2000,3000,4000,5000]\n",
    "def zam(maaslar):\n",
    "    zamli_maaslar = []\n",
    "    for i in maaslar:\n",
    "        zamli_maaslar.append(i + i/5)\n",
    "    return zamli_maaslar\n",
    "\n",
    "zam(maaslar)"
   ]
  },
  {
   "cell_type": "code",
   "execution_count": 34,
   "id": "758114d7-ce56-4db5-8c4d-7ea189fdef67",
   "metadata": {},
   "outputs": [
    {
     "data": {
      "text/plain": [
       "[1150.0, 2350.0, 3500.0, 4700.0, 5900.0]"
      ]
     },
     "execution_count": 34,
     "metadata": {},
     "output_type": "execute_result"
    }
   ],
   "source": [
    "# 27. question\n",
    "def vergi_kesintili(maaslar):\n",
    "    for i in maaslar:\n",
    "        if i < 2500:\n",
    "            maaslar[maaslar.index(i)] = i - 50\n",
    "        else :\n",
    "            maaslar[maaslar.index(i)] = i - 100\n",
    "    return maaslar\n",
    "\n",
    "vergi_kesintili(zam(maaslar))"
   ]
  },
  {
   "cell_type": "code",
   "execution_count": 35,
   "id": "8ac95241-39f7-45d5-bfac-7e66ef0e938e",
   "metadata": {},
   "outputs": [
    {
     "data": {
      "text/plain": [
       "[['John', 'Venessa'], ['Mark', 'Mariam']]"
      ]
     },
     "execution_count": 35,
     "metadata": {},
     "output_type": "execute_result"
    }
   ],
   "source": [
    "# 28. question\n",
    "students = [\"John\", \"Mark\", \"Venessa\", \"Mariam\"]\n",
    "\n",
    "def funct(students):\n",
    "    A = [] ; B = [] ;\n",
    "    for i, j in enumerate(students):\n",
    "        if i % 2 == 0:\n",
    "            A.append(j)\n",
    "        else :\n",
    "            B.append(j)\n",
    "    groups = [A] + [B]\n",
    "    return groups\n",
    "funct(students)"
   ]
  },
  {
   "cell_type": "code",
   "execution_count": 36,
   "id": "86cd5ba8-53b1-4bb7-a97e-dfb658803054",
   "metadata": {},
   "outputs": [
    {
     "name": "stdout",
     "output_type": "stream",
     "text": [
      "Hi mY NaMe iS JoHn aNd i aM LeArNiNg pYtHoN\n"
     ]
    }
   ],
   "source": [
    "# 29. question\n",
    "def converter_by_index(metin):\n",
    "    text = \"\"\n",
    "    for i in range(len(metin)):\n",
    "        if i % 2 == 0:\n",
    "            text += metin[i].upper()\n",
    "        else:\n",
    "            text += metin[i].lower()\n",
    "\n",
    "    print(text)\n",
    "\n",
    "converter_by_index(\"hi my name is john and i am learning python\")"
   ]
  },
  {
   "cell_type": "code",
   "execution_count": 37,
   "id": "ed12daaf-40f2-411e-8036-0c9dc6537554",
   "metadata": {},
   "outputs": [
    {
     "name": "stdout",
     "output_type": "stream",
     "text": [
      "Hi mY NaMe iS JoHn aNd i aM LeArNiNg pYtHoN\n"
     ]
    }
   ],
   "source": [
    "# 30. question\n",
    "def alternating(string):\n",
    "    new_string = \"\"\n",
    "\n",
    "    for string_index, j in enumerate(string):\n",
    "        if string_index % 2 == 0:\n",
    "            new_string += j.upper()\n",
    "        else:\n",
    "            new_string += j.lower()\n",
    "\n",
    "    print(new_string)\n",
    "\n",
    "alternating(\"hi my name is john and i am learning python\")"
   ]
  },
  {
   "cell_type": "code",
   "execution_count": 38,
   "id": "d9a44f76-b587-41ad-882e-0c227dd3eac9",
   "metadata": {},
   "outputs": [
    {
     "name": "stdin",
     "output_type": "stream",
     "text": [
      "Lütfen isminizi giriniz. Batuhan Akgün\n",
      "Lütfen yaşınızı giriniz. 23\n"
     ]
    },
    {
     "name": "stdout",
     "output_type": "stream",
     "text": [
      "Merhaba benim ismim Batuhan Akgün,\n",
      "23 yaşındayım!\n"
     ]
    }
   ],
   "source": [
    "# 31. question\n",
    "def bio(name, old):\n",
    "    print(\"Merhaba benim ismim {},\\n{} yaşındayım!\".format(name, old))\n",
    "bio(name = input(\"Lütfen isminizi giriniz.\"), old = int(input(\"Lütfen yaşınızı giriniz.\")))"
   ]
  },
  {
   "cell_type": "code",
   "execution_count": null,
   "id": "7836399d-350b-4cfe-9cd1-0ad1dc632af2",
   "metadata": {},
   "outputs": [],
   "source": []
  }
 ],
 "metadata": {
  "kernelspec": {
   "display_name": "Python 3 (ipykernel)",
   "language": "python",
   "name": "python3"
  },
  "language_info": {
   "codemirror_mode": {
    "name": "ipython",
    "version": 3
   },
   "file_extension": ".py",
   "mimetype": "text/x-python",
   "name": "python",
   "nbconvert_exporter": "python",
   "pygments_lexer": "ipython3",
   "version": "3.9.12"
  }
 },
 "nbformat": 4,
 "nbformat_minor": 5
}
